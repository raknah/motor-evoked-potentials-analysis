{
 "cells": [
  {
   "metadata": {},
   "cell_type": "markdown",
   "source": "# MEPs in diseased vs healthy mice",
   "id": "e6ec9d83a8c72b39"
  },
  {
   "cell_type": "code",
   "id": "initial_id",
   "metadata": {
    "collapsed": true,
    "ExecuteTime": {
     "end_time": "2024-07-29T11:31:33.926590Z",
     "start_time": "2024-07-29T11:31:33.014280Z"
    }
   },
   "source": [
    "from tqdm import tqdm\n",
    "from mepextract.extracting import Extractor\n",
    "from scipy.signal import find_peaks\n",
    "import pandas as pd\n",
    "import numpy as np\n",
    "import matplotlib.pyplot as plt\n",
    "import scienceplots\n",
    "import os\n",
    "import pickle\n",
    "import json\n",
    "\n",
    "plt.style.use(['science', 'grid'])"
   ],
   "outputs": [],
   "execution_count": 2
  },
  {
   "metadata": {},
   "cell_type": "markdown",
   "source": "## defining relevant folders and paths",
   "id": "43f5a1ba7aece49e"
  },
  {
   "metadata": {
    "ExecuteTime": {
     "end_time": "2024-07-29T11:31:33.931459Z",
     "start_time": "2024-07-29T11:31:33.927458Z"
    }
   },
   "cell_type": "code",
   "source": [
    "spreadsheet = pd.read_csv('/Users/fomo/Documents/Research/UNIC Research/Motor Evoked Potentials Test/mep_sciatic.csv')\n",
    "\n",
    "master_folder = '/Volumes/STORAGE 1.0/UNIC Research/Motor Evoked Potentials/motor_evoked_potentials_dataspell/MEPSSEP_raw_data'\n"
   ],
   "id": "62b0483c58bdf3af",
   "outputs": [],
   "execution_count": 3
  },
  {
   "metadata": {},
   "cell_type": "markdown",
   "source": "",
   "id": "99abb256828a4c91"
  },
  {
   "metadata": {},
   "cell_type": "markdown",
   "source": "## extracting MEPs for all trials",
   "id": "6adf6d4b2a400b0b"
  },
  {
   "metadata": {
    "ExecuteTime": {
     "end_time": "2024-07-29T11:32:03.544347Z",
     "start_time": "2024-07-29T11:32:02.336820Z"
    }
   },
   "cell_type": "code",
   "source": [
    "# number of trials to iterate over\n",
    "n = len(spreadsheet)\n",
    "\n",
    "extracted_peaks = []\n",
    "\n",
    "for i in tqdm(range(1), desc=\"Processing trials\"):\n",
    "    \n",
    "    # trial name\n",
    "    trial = spreadsheet.session_dates[i]\n",
    "    \n",
    "    # marking disease status\n",
    "    if spreadsheet.phenotype[i] == 'WT':\n",
    "        disease = 0\n",
    "    else:\n",
    "        disease = 1\n",
    "\n",
    "    # defining search parameters\n",
    "    channels = [5,6,7,8]\n",
    "    search_parameters = {'height': 50, 'width': 30, 'distance': 45}\n",
    "    \n",
    "    # defining extractor object\n",
    "    extractor = Extractor(master_folder=master_folder, trial=trial, group=disease, recording_channels=channels)\n",
    "    extractor.pre_stimulus = 300\n",
    "    extractor.post_stimulus = 3000\n",
    "    extractor.notes = spreadsheet.loc[i]\n",
    "    extractor.extract_raw()\n",
    "    extractor.extract_events(event_channel_number=13)\n",
    "    extractor.get_event_data()\n",
    "    extractor.find_meps(peak_parameters=search_parameters, plot=False)\n",
    "    extracted_peaks.append(extractor.detected_peaks)\n"
   ],
   "id": "6ca7edaf4d3c68b",
   "outputs": [
    {
     "name": "stderr",
     "output_type": "stream",
     "text": [
      "Processing trials: 100%|██████████| 1/1 [00:01<00:00,  1.20s/it]\n"
     ]
    }
   ],
   "execution_count": 5
  },
  {
   "metadata": {
    "ExecuteTime": {
     "end_time": "2024-07-29T11:32:20.187252Z",
     "start_time": "2024-07-29T11:32:20.181510Z"
    }
   },
   "cell_type": "code",
   "source": "extracted_peaks",
   "id": "8179007ff8ac4aa6",
   "outputs": [
    {
     "data": {
      "text/plain": [
       "[{1: [(311, 4915), (763, 489), (1889, 130), (383, 6372)]}]"
      ]
     },
     "execution_count": 6,
     "metadata": {},
     "output_type": "execute_result"
    }
   ],
   "execution_count": 6
  },
  {
   "metadata": {},
   "cell_type": "markdown",
   "source": "## plotting detected peaks",
   "id": "eb758b1c94774ae8"
  },
  {
   "metadata": {},
   "cell_type": "code",
   "source": [
    "peak_positions_ms = []\n",
    "peak_heights = []\n",
    "groups = []\n",
    "\n",
    "for trial in extracted_peaks:\n",
    "   for group, peaks in trial.items():\n",
    "       for position, height in peaks:\n",
    "           if height < 1000:\n",
    "               peak_positions_ms.append(position * (1000 / 30000))\n",
    "               peak_heights.append(height)\n",
    "               groups.append(group)\n",
    "\n",
    "# plot with colors based on a variable\n",
    "plt.figure(figsize=(10, 6), dpi=210)\n",
    "plt.scatter(peak_positions_ms, peak_heights, c=groups, cmap='viridis', label='Detected Peaks', s=100, alpha = 0.5)\n",
    "plt.colorbar(label='disease')\n",
    "plt.xlabel('Time (ms)')\n",
    "plt.ylabel('Peak Height')\n",
    "plt.title('Detected Peaks (Sciatic)')\n",
    "plt.savefig('/Users/fomo/Desktop/peaks.png')\n",
    "plt.show()"
   ],
   "id": "830c9d49c7c59b48",
   "outputs": [],
   "execution_count": null
  },
  {
   "metadata": {},
   "cell_type": "markdown",
   "source": "# Generate single large plot",
   "id": "344e6fcc9e3a0a88"
  },
  {
   "metadata": {},
   "cell_type": "code",
   "source": [
    "fig, ax = plt.subplots(n, 1, figsize = (21,7*n), dpi = 210)\n",
    "\n",
    "for i in tqdm(range(n), desc=\"Processing trials\"):\n",
    "    \n",
    "    data_path = os.path.join(master_folder, spreadsheet.session_dates[i], \"extracted\", \"processed_data.pkl\")\n",
    "    peaks_path = os.path.join(master_folder, spreadsheet.session_dates[i], \"extracted\", \"detected_peaks.json\")\n",
    "    \n",
    "    # temporary data\n",
    "    with open(data_path, 'rb') as file:\n",
    "        data = pickle.load(file)\n",
    "        \n",
    "    with open(peaks_path, 'rb') as file:\n",
    "        detected_peaks = json.load(file)\n",
    "    \n",
    "    mean_data = np.mean(data[4:8, :, :],axis = 2)\n",
    "    std_data = np.std(data[4:8, :, :], axis = 2)\n",
    "    peaks = [peak_position * (1000 / 30000) for _, peak_position, peak_height in detected_peaks if peak_height < 1000]\n",
    "\n",
    "    # plotting parameters\n",
    "    time_axis = np.arange(mean_data.shape[1]) * (1000 / 30000)\n",
    "    tick_positions = np.arange(0, np.max(time_axis), 10)\n",
    "\n",
    "    for channel_index in range(0,4):\n",
    "\n",
    "        # plot peaks, mean data and error bars\n",
    "        upper_bound = mean_data[channel_index] + std_data[channel_index]\n",
    "        lower_bound = mean_data[channel_index] - std_data[channel_index]\n",
    "        ax[i].fill_between(time_axis, upper_bound, lower_bound, alpha = 0.3, label =f'Chennal {channel_index + 5}')\n",
    "        ax[i].plot(time_axis,mean_data[channel_index], label = f'Channel {channel_index + 5}')\n",
    "        ax[i].plot(peaks, mean_data[channel_index][peaks], \"X\", label = 'Positive Peaks', color = \"purple\", ms = 21)\n",
    "\n",
    "        # plot aesthetics\n",
    "        ax[i].set_xlabel('Time (ms)')\n",
    "        ax[i].set_ylabel('Amplitude ($\\mu$V)')\n",
    "        ax[i].set_xticks(tick_positions)\n",
    "        ax[i].set_ylim(-500,500)\n",
    "        ax[i].set_title(spreadsheet.session_dates[i])\n",
    "\n",
    "plt.legend()   \n",
    "plt.tight_layout()\n",
    "plt.savefig('/Users/fomo/Desktop/all_sessions.png')"
   ],
   "id": "1b909344afe01c8e",
   "outputs": [],
   "execution_count": null
  }
 ],
 "metadata": {
  "kernelspec": {
   "display_name": "Python 3",
   "language": "python",
   "name": "python3"
  },
  "language_info": {
   "codemirror_mode": {
    "name": "ipython",
    "version": 2
   },
   "file_extension": ".py",
   "mimetype": "text/x-python",
   "name": "python",
   "nbconvert_exporter": "python",
   "pygments_lexer": "ipython2",
   "version": "2.7.6"
  }
 },
 "nbformat": 4,
 "nbformat_minor": 5
}
